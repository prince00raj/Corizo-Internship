{
 "cells": [
  {
   "cell_type": "markdown",
   "id": "0381b9b7-9f5f-40ef-8a71-dc6c5f622141",
   "metadata": {},
   "source": [
    "## TITANIC DATA ANALYTICS USING PYTHON PANDAS AND MATPLOTLIB"
   ]
  },
  {
   "cell_type": "markdown",
   "id": "567f2a58-f201-41d0-b0e2-8b6626d3e221",
   "metadata": {},
   "source": [
    "TRANSEFERRING THE DATASET AND MAKING A COPY OF IT FOR THE PANEL"
   ]
  },
  {
   "cell_type": "code",
   "execution_count": 2,
   "id": "e646e1b6-b89f-4d25-9971-d03138e02c30",
   "metadata": {
    "scrolled": true,
    "tags": []
   },
   "outputs": [
    {
     "data": {
      "text/html": [
       "<div>\n",
       "<style scoped>\n",
       "    .dataframe tbody tr th:only-of-type {\n",
       "        vertical-align: middle;\n",
       "    }\n",
       "\n",
       "    .dataframe tbody tr th {\n",
       "        vertical-align: top;\n",
       "    }\n",
       "\n",
       "    .dataframe thead th {\n",
       "        text-align: right;\n",
       "    }\n",
       "</style>\n",
       "<table border=\"1\" class=\"dataframe\">\n",
       "  <thead>\n",
       "    <tr style=\"text-align: right;\">\n",
       "      <th></th>\n",
       "      <th>PassengerId</th>\n",
       "      <th>Survived</th>\n",
       "      <th>Pclass</th>\n",
       "      <th>Name</th>\n",
       "      <th>Sex</th>\n",
       "      <th>Age</th>\n",
       "      <th>SibSp</th>\n",
       "      <th>Parch</th>\n",
       "      <th>Ticket</th>\n",
       "      <th>Fare</th>\n",
       "      <th>Cabin</th>\n",
       "      <th>Embarked</th>\n",
       "    </tr>\n",
       "  </thead>\n",
       "  <tbody>\n",
       "    <tr>\n",
       "      <th>0</th>\n",
       "      <td>1</td>\n",
       "      <td>0</td>\n",
       "      <td>3</td>\n",
       "      <td>Braund, Mr. Owen Harris</td>\n",
       "      <td>male</td>\n",
       "      <td>22.0</td>\n",
       "      <td>1</td>\n",
       "      <td>0</td>\n",
       "      <td>A/5 21171</td>\n",
       "      <td>7.2500</td>\n",
       "      <td>NaN</td>\n",
       "      <td>S</td>\n",
       "    </tr>\n",
       "    <tr>\n",
       "      <th>1</th>\n",
       "      <td>2</td>\n",
       "      <td>1</td>\n",
       "      <td>1</td>\n",
       "      <td>Cumings, Mrs. John Bradley (Florence Briggs Th...</td>\n",
       "      <td>female</td>\n",
       "      <td>38.0</td>\n",
       "      <td>1</td>\n",
       "      <td>0</td>\n",
       "      <td>PC 17599</td>\n",
       "      <td>71.2833</td>\n",
       "      <td>C85</td>\n",
       "      <td>C</td>\n",
       "    </tr>\n",
       "    <tr>\n",
       "      <th>2</th>\n",
       "      <td>3</td>\n",
       "      <td>1</td>\n",
       "      <td>3</td>\n",
       "      <td>Heikkinen, Miss. Laina</td>\n",
       "      <td>female</td>\n",
       "      <td>26.0</td>\n",
       "      <td>0</td>\n",
       "      <td>0</td>\n",
       "      <td>STON/O2. 3101282</td>\n",
       "      <td>7.9250</td>\n",
       "      <td>NaN</td>\n",
       "      <td>S</td>\n",
       "    </tr>\n",
       "    <tr>\n",
       "      <th>3</th>\n",
       "      <td>4</td>\n",
       "      <td>1</td>\n",
       "      <td>1</td>\n",
       "      <td>Futrelle, Mrs. Jacques Heath (Lily May Peel)</td>\n",
       "      <td>female</td>\n",
       "      <td>35.0</td>\n",
       "      <td>1</td>\n",
       "      <td>0</td>\n",
       "      <td>113803</td>\n",
       "      <td>53.1000</td>\n",
       "      <td>C123</td>\n",
       "      <td>S</td>\n",
       "    </tr>\n",
       "    <tr>\n",
       "      <th>4</th>\n",
       "      <td>5</td>\n",
       "      <td>0</td>\n",
       "      <td>3</td>\n",
       "      <td>Allen, Mr. William Henry</td>\n",
       "      <td>male</td>\n",
       "      <td>35.0</td>\n",
       "      <td>0</td>\n",
       "      <td>0</td>\n",
       "      <td>373450</td>\n",
       "      <td>8.0500</td>\n",
       "      <td>NaN</td>\n",
       "      <td>S</td>\n",
       "    </tr>\n",
       "    <tr>\n",
       "      <th>...</th>\n",
       "      <td>...</td>\n",
       "      <td>...</td>\n",
       "      <td>...</td>\n",
       "      <td>...</td>\n",
       "      <td>...</td>\n",
       "      <td>...</td>\n",
       "      <td>...</td>\n",
       "      <td>...</td>\n",
       "      <td>...</td>\n",
       "      <td>...</td>\n",
       "      <td>...</td>\n",
       "      <td>...</td>\n",
       "    </tr>\n",
       "    <tr>\n",
       "      <th>886</th>\n",
       "      <td>887</td>\n",
       "      <td>0</td>\n",
       "      <td>2</td>\n",
       "      <td>Montvila, Rev. Juozas</td>\n",
       "      <td>male</td>\n",
       "      <td>27.0</td>\n",
       "      <td>0</td>\n",
       "      <td>0</td>\n",
       "      <td>211536</td>\n",
       "      <td>13.0000</td>\n",
       "      <td>NaN</td>\n",
       "      <td>S</td>\n",
       "    </tr>\n",
       "    <tr>\n",
       "      <th>887</th>\n",
       "      <td>888</td>\n",
       "      <td>1</td>\n",
       "      <td>1</td>\n",
       "      <td>Graham, Miss. Margaret Edith</td>\n",
       "      <td>female</td>\n",
       "      <td>19.0</td>\n",
       "      <td>0</td>\n",
       "      <td>0</td>\n",
       "      <td>112053</td>\n",
       "      <td>30.0000</td>\n",
       "      <td>B42</td>\n",
       "      <td>S</td>\n",
       "    </tr>\n",
       "    <tr>\n",
       "      <th>888</th>\n",
       "      <td>889</td>\n",
       "      <td>0</td>\n",
       "      <td>3</td>\n",
       "      <td>Johnston, Miss. Catherine Helen \"Carrie\"</td>\n",
       "      <td>female</td>\n",
       "      <td>NaN</td>\n",
       "      <td>1</td>\n",
       "      <td>2</td>\n",
       "      <td>W./C. 6607</td>\n",
       "      <td>23.4500</td>\n",
       "      <td>NaN</td>\n",
       "      <td>S</td>\n",
       "    </tr>\n",
       "    <tr>\n",
       "      <th>889</th>\n",
       "      <td>890</td>\n",
       "      <td>1</td>\n",
       "      <td>1</td>\n",
       "      <td>Behr, Mr. Karl Howell</td>\n",
       "      <td>male</td>\n",
       "      <td>26.0</td>\n",
       "      <td>0</td>\n",
       "      <td>0</td>\n",
       "      <td>111369</td>\n",
       "      <td>30.0000</td>\n",
       "      <td>C148</td>\n",
       "      <td>C</td>\n",
       "    </tr>\n",
       "    <tr>\n",
       "      <th>890</th>\n",
       "      <td>891</td>\n",
       "      <td>0</td>\n",
       "      <td>3</td>\n",
       "      <td>Dooley, Mr. Patrick</td>\n",
       "      <td>male</td>\n",
       "      <td>32.0</td>\n",
       "      <td>0</td>\n",
       "      <td>0</td>\n",
       "      <td>370376</td>\n",
       "      <td>7.7500</td>\n",
       "      <td>NaN</td>\n",
       "      <td>Q</td>\n",
       "    </tr>\n",
       "  </tbody>\n",
       "</table>\n",
       "<p>891 rows × 12 columns</p>\n",
       "</div>"
      ],
      "text/plain": [
       "     PassengerId  Survived  Pclass  \\\n",
       "0              1         0       3   \n",
       "1              2         1       1   \n",
       "2              3         1       3   \n",
       "3              4         1       1   \n",
       "4              5         0       3   \n",
       "..           ...       ...     ...   \n",
       "886          887         0       2   \n",
       "887          888         1       1   \n",
       "888          889         0       3   \n",
       "889          890         1       1   \n",
       "890          891         0       3   \n",
       "\n",
       "                                                  Name     Sex   Age  SibSp  \\\n",
       "0                              Braund, Mr. Owen Harris    male  22.0      1   \n",
       "1    Cumings, Mrs. John Bradley (Florence Briggs Th...  female  38.0      1   \n",
       "2                               Heikkinen, Miss. Laina  female  26.0      0   \n",
       "3         Futrelle, Mrs. Jacques Heath (Lily May Peel)  female  35.0      1   \n",
       "4                             Allen, Mr. William Henry    male  35.0      0   \n",
       "..                                                 ...     ...   ...    ...   \n",
       "886                              Montvila, Rev. Juozas    male  27.0      0   \n",
       "887                       Graham, Miss. Margaret Edith  female  19.0      0   \n",
       "888           Johnston, Miss. Catherine Helen \"Carrie\"  female   NaN      1   \n",
       "889                              Behr, Mr. Karl Howell    male  26.0      0   \n",
       "890                                Dooley, Mr. Patrick    male  32.0      0   \n",
       "\n",
       "     Parch            Ticket     Fare Cabin Embarked  \n",
       "0        0         A/5 21171   7.2500   NaN        S  \n",
       "1        0          PC 17599  71.2833   C85        C  \n",
       "2        0  STON/O2. 3101282   7.9250   NaN        S  \n",
       "3        0            113803  53.1000  C123        S  \n",
       "4        0            373450   8.0500   NaN        S  \n",
       "..     ...               ...      ...   ...      ...  \n",
       "886      0            211536  13.0000   NaN        S  \n",
       "887      0            112053  30.0000   B42        S  \n",
       "888      2        W./C. 6607  23.4500   NaN        S  \n",
       "889      0            111369  30.0000  C148        C  \n",
       "890      0            370376   7.7500   NaN        Q  \n",
       "\n",
       "[891 rows x 12 columns]"
      ]
     },
     "execution_count": 2,
     "metadata": {},
     "output_type": "execute_result"
    }
   ],
   "source": [
    "import pandas as pd\n",
    "import matplotlib.pyplot as plt\n",
    "import numpy as np\n",
    "import panel as pn\n",
    "from panel import bind\n",
    "import hvplot.pandas\n",
    "\n",
    "df=pd.read_csv('Book1.csv', encoding='latin-1')\n",
    "pn.state.cache['data'] = df.copy()\n",
    "df"
   ]
  },
  {
   "cell_type": "markdown",
   "id": "8298c141-432b-4640-b41d-a19ffb46cc90",
   "metadata": {},
   "source": [
    "<h5>Data Exploration</h5>"
   ]
  },
  {
   "cell_type": "code",
   "execution_count": 11,
   "id": "ed48b18a-060a-4685-a4f1-c3e87b6d6ed7",
   "metadata": {},
   "outputs": [
    {
     "name": "stdout",
     "output_type": "stream",
     "text": [
      "<class 'pandas.core.frame.DataFrame'>\n",
      "RangeIndex: 891 entries, 0 to 890\n",
      "Data columns (total 12 columns):\n",
      " #   Column       Non-Null Count  Dtype  \n",
      "---  ------       --------------  -----  \n",
      " 0   PassengerId  891 non-null    int64  \n",
      " 1   Survived     891 non-null    int64  \n",
      " 2   Pclass       891 non-null    int64  \n",
      " 3   Name         891 non-null    object \n",
      " 4   Sex          891 non-null    object \n",
      " 5   Age          714 non-null    float64\n",
      " 6   SibSp        891 non-null    int64  \n",
      " 7   Parch        891 non-null    int64  \n",
      " 8   Ticket       891 non-null    object \n",
      " 9   Fare         891 non-null    float64\n",
      " 10  Cabin        204 non-null    object \n",
      " 11  Embarked     889 non-null    object \n",
      "dtypes: float64(2), int64(5), object(5)\n",
      "memory usage: 83.7+ KB\n"
     ]
    }
   ],
   "source": [
    "df.info()"
   ]
  },
  {
   "cell_type": "code",
   "execution_count": null,
   "id": "c19a7c18-f220-4828-8a4f-4d86393aa6bc",
   "metadata": {},
   "outputs": [],
   "source": [
    "df.describe()"
   ]
  },
  {
   "cell_type": "code",
   "execution_count": null,
   "id": "5eefe382-5c23-44a2-8f2a-a5da6a267b89",
   "metadata": {},
   "outputs": [],
   "source": [
    "df.columns"
   ]
  },
  {
   "cell_type": "markdown",
   "id": "f3f79965-2dac-461c-9e01-3c0976f19168",
   "metadata": {},
   "source": [
    " </BR> DATA CLEANING: FILLING THE NaN VALUES WITH 0 "
   ]
  },
  {
   "cell_type": "code",
   "execution_count": null,
   "id": "4a1bf45c-83f8-4ff2-ac94-cd72b767d24c",
   "metadata": {
    "scrolled": true
   },
   "outputs": [],
   "source": [
    "df=df.fillna(0)\n",
    "idf=df.interactive()\n",
    "df"
   ]
  },
  {
   "cell_type": "markdown",
   "id": "b0ffa00a-791d-441c-83d1-b83db0b8b4c9",
   "metadata": {},
   "source": [
    "</br> <h4>Problem 1 </h4>"
   ]
  },
  {
   "cell_type": "code",
   "execution_count": null,
   "id": "19b45622-1070-4c19-a42a-43c93ff86439",
   "metadata": {},
   "outputs": [],
   "source": [
    "class info:\n",
    "    female = df['Sex'].value_counts()['female']\n",
    "    male = df['Sex'].value_counts()['male']\n",
    "    survived_people = df['Survived'].sum()\n",
    "    total_people=female + male\n",
    "    died_people = total_people - survived_people\n",
    "\n",
    "a1= print(\"ACCORDING TO DATASET: \"),\n",
    "    \n",
    "print(\"\\nTotal number of people: \", info.total_people),\n",
    "    \n",
    "print(\"\\nNumber of injured people: \", info.survived_people),\n",
    "    \n",
    "print(\"\\nNumber of deaths: \", info.died_people),\n",
    "    \n",
    "print(\"\\naboarded number of females: \",info.female),\n",
    "    \n",
    "print(\"\\naboarded number of males: \",info.male)\n"
   ]
  },
  {
   "cell_type": "code",
   "execution_count": null,
   "id": "5b9aa1b4-fcd9-4ba6-ba1a-3c63e76eda4c",
   "metadata": {},
   "outputs": [],
   "source": [
    "class female:\n",
    "    survived_female = df.groupby('Sex')['Survived'].value_counts()['female']    \n",
    "\n",
    "a2= print(\"\\nfemale passengers description: \\n\"),\n",
    "print(female.survived_female)"
   ]
  },
  {
   "cell_type": "code",
   "execution_count": null,
   "id": "eb75482f-ef10-4e20-9710-749fa3abd731",
   "metadata": {},
   "outputs": [],
   "source": [
    "class male:\n",
    "    survived_male = df.groupby('Sex')['Survived'].value_counts()['male']\n",
    "\n",
    "a3=print(\"\\nmale passengers description: \\n\"),\n",
    "print(male.survived_male)"
   ]
  },
  {
   "cell_type": "markdown",
   "id": "3bdb7c8b-dc7d-4350-9fd7-5c7380eaad5c",
   "metadata": {},
   "source": [
    "</br> Problem: GRAPH BASED ON TYPES OF PEOPLE"
   ]
  },
  {
   "cell_type": "code",
   "execution_count": null,
   "id": "f8f8c882-e71b-41a3-bff0-2271c2aeab22",
   "metadata": {},
   "outputs": [],
   "source": [
    "data = pd.DataFrame({'People': ['Boarded', 'Injured', 'Deaths'],\n",
    "                     'Number': [info.total_people, info.survived_people, info.died_people]})\n",
    "\n",
    "# Plot the result using hvplot\n",
    "people_plot = data.hvplot(kind='scatter', x='People', y='Number', marker='o', size=13, color='red') * \\\n",
    "            data.hvplot(kind='line', x='People', y='Number', color='green')\n",
    "\n",
    "people_plot.opts(xlabel='Types of People', ylabel='Number', title='Number of People', \n",
    "                 fontsize={'xlabel': 18, 'ylabel': 16, 'title': 20})\n",
    "people_plot"
   ]
  },
  {
   "cell_type": "markdown",
   "id": "f846249f-ab7b-4a89-8f74-6f8645b2f9ce",
   "metadata": {},
   "source": [
    "</br> Problem: GRAPH BASED ON SURVIVED NUMBER OF FEMALES AND MALES"
   ]
  },
  {
   "cell_type": "code",
   "execution_count": null,
   "id": "0740c5ae-223f-421e-8a7a-0a3026d08b34",
   "metadata": {},
   "outputs": [],
   "source": [
    "# Calculate the number of survived individuals by gender\n",
    "by_gender = df.groupby('Sex')['Survived'].sum()\n",
    "\n",
    "# Plot the result using hvplot\n",
    "survived_plot = by_gender.hvplot(kind='bar', xlabel='Gender', ylabel='Number of Survived Individuals', title='Number of Survived Individuals by Gender', color='green')\n",
    "\n",
    "survived_plot"
   ]
  },
  {
   "cell_type": "markdown",
   "id": "2cccd7fa-140d-4ef8-906f-9b3b12139ba1",
   "metadata": {},
   "source": [
    "</br> Problem 4: GRAPH BASED ON SURVIVED PEOPLE ACCORDING TO THEIR AGE GROUPS"
   ]
  },
  {
   "cell_type": "code",
   "execution_count": null,
   "id": "4256522d-36df-4498-83ab-764c9957653f",
   "metadata": {},
   "outputs": [],
   "source": [
    "# Define age groups\n",
    "df['AgeGroup'] = pd.cut(df['Age'], bins=[0, 18, 30, 50, 70, 100],\n",
    "                        labels=['Child (0-18)', 'Teenager (18-30)', 'Young Adult (30-50)',\n",
    "                                'Adult (50-70)', 'Elder Citizen (70-100)'])\n",
    "\n",
    "# Calculate survival count by age group\n",
    "by_age = df.groupby('AgeGroup',observed=False)['Survived'].sum()\n",
    "\n",
    "# Plot the survival rate by age group\n",
    "ageplot = by_age.hvplot.bar(rot=45, xlabel='Age Group', ylabel='Survival Count',title='Survival Count by Age Group')\n",
    "ageplot"
   ]
  },
  {
   "cell_type": "markdown",
   "id": "b61e5f4e-329a-4a95-ad61-52a10b5c081f",
   "metadata": {},
   "source": [
    "</br> Problem 5: GRAPH BASED ON SURVIVED PEOPLE ACCORDING TO PASSENGER CLASS"
   ]
  },
  {
   "cell_type": "code",
   "execution_count": null,
   "id": "d66bc942-d18a-4f53-b57f-1264f4691a36",
   "metadata": {},
   "outputs": [],
   "source": [
    "# Calculate the survival rate by passenger class\n",
    "survival_by_class = df.groupby('Pclass')['Survived'].mean()\n",
    "survival_by_class = survival_by_class*100\n",
    "# Plot the survival rate by passenger class\n",
    "survival_by_class_plot = survival_by_class.hvplot(kind='bar', xlabel='Passenger Class', ylabel='Survival Rate',\n",
    "                                                  title='Survival Rate by Passenger Class')\n",
    "survival_by_class_plot"
   ]
  },
  {
   "cell_type": "markdown",
   "id": "b88c9310-0753-4b95-a72a-2c498a5c669d",
   "metadata": {},
   "source": [
    "</BR> Problem 6: CREATING A PANEL USING TEMPLATE TO MAKE A DASHBOARD TO DISPLAY EVERY GRAPHS IN ONE PLACE"
   ]
  },
  {
   "cell_type": "code",
   "execution_count": null,
   "id": "4271514f-8963-4e2e-8efc-c3779396e179",
   "metadata": {
    "scrolled": true
   },
   "outputs": [],
   "source": [
    "template = pn.template.FastListTemplate(\n",
    "    title='TITANIC DATA ANALYTICS USING PYTHON PANDAS AND MATPLOTLIB', \n",
    "    sidebar=[\n",
    "        pn.pane.Markdown(\"# TITANIC DATA ANALYSIS\"), \n",
    "        pn.pane.Markdown(\"#### RMS Titanic was a British passenger and mail carrying ocean liner, operated by the White Star Line, that sank in the North Atlantic Ocean on 15 April 1912 as a result of striking an iceberg.The disaster drew public attention, spurred major changes in maritime safety regulations, and inspired many artistic works.\"), \n",
    "        pn.pane.JPG('titanic.jpg', sizing_mode='scale_both')\n",
    "            ],\n",
    "    main=[\n",
    "        pn.pane.Markdown(print(a1), width=550),\n",
    "        pn.pane.Markdown(print(a2), width=550),\n",
    "        pn.pane.Markdown(print(a3), width=550),\n",
    "        pn.Row(pn.Column(people_plot.opts(width=700),margin=(0, 25))),\n",
    "        pn.Row(pn.Column(survived_plot.opts(width=700), margin=(0, 25))),\n",
    "        pn.Row(pn.Column(ageplot.opts(width=600), margin=(0, 25))),\n",
    "        pn.Row(pn.Column(survival_by_class_plot))\n",
    "    ])\n",
    "\n",
    "# Serve the template\n",
    "template.servable();\n"
   ]
  }
 ],
 "metadata": {
  "kernelspec": {
   "display_name": "Python 3 (ipykernel)",
   "language": "python",
   "name": "python3"
  },
  "language_info": {
   "codemirror_mode": {
    "name": "ipython",
    "version": 3
   },
   "file_extension": ".py",
   "mimetype": "text/x-python",
   "name": "python",
   "nbconvert_exporter": "python",
   "pygments_lexer": "ipython3",
   "version": "3.11.5"
  }
 },
 "nbformat": 4,
 "nbformat_minor": 5
}
